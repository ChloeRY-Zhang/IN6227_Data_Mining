{
 "cells": [
  {
   "cell_type": "code",
   "execution_count": 708,
   "metadata": {},
   "outputs": [],
   "source": [
    "import numpy as np\n",
    "import pandas as pd\n",
    "import matplotlib.pyplot as plt\n",
    "import seaborn as sns\n",
    "from sklearn.model_selection import train_test_split\n",
    "from sklearn.metrics import roc_curve, auc,confusion_matrix,    f1_score, precision_score, recall_score,accuracy_score\n",
    "from sklearn.metrics import confusion_matrix, classification_report\n",
    "import time\n",
    "from sklearn.preprocessing import OneHotEncoder\n",
    "\n",
    "np.random.seed(1234)\n",
    "from sklearn import model_selection\n"
   ]
  },
  {
   "cell_type": "code",
   "execution_count": 709,
   "metadata": {},
   "outputs": [],
   "source": [
    "start_time1 = time.time()\n",
    "heading =['age', 'workclass', 'fnlwgt', 'education', 'education-num','marital-status', 'occupation', 'relationship', 'race', 'sex', 'capital-gain', 'capital-loss', 'hours-per-week', 'native-country','income']\n",
    "train_data = pd.read_csv(\"Census Income Data Set/adult.data\", header=None, names = heading,skipinitialspace = True, na_values='?')\n",
    "test_data = pd.read_csv(\"Census Income Data Set/adult.test\", header=None, names = heading,skipinitialspace = True,skiprows=1 ,na_values='?')\n"
   ]
  },
  {
   "cell_type": "code",
   "execution_count": 710,
   "metadata": {},
   "outputs": [
    {
     "data": {
      "text/plain": [
       "income\n",
       "<=50K    12435\n",
       ">50K      3846\n",
       "dtype: int64"
      ]
     },
     "execution_count": 710,
     "metadata": {},
     "output_type": "execute_result"
    }
   ],
   "source": [
    "#data preprocessing for test dataset\n",
    "test_data['income'] = test_data.apply(lambda row: row['income'].replace(\".\",\"\"), axis=1)\n",
    "test_data.value_counts('income')\n"
   ]
  },
  {
   "cell_type": "code",
   "execution_count": 711,
   "metadata": {},
   "outputs": [],
   "source": [
    "df = train_data\n",
    "tdf = test_data"
   ]
  },
  {
   "cell_type": "code",
   "execution_count": 712,
   "metadata": {},
   "outputs": [],
   "source": [
    "# Remove invalid data from table\n",
    "df = df[(df.astype(str) != '?').all(axis=1)]\n",
    "tdf = tdf[(tdf.astype(str) != '?').all(axis=1)]\n",
    "\n",
    "df = pd.get_dummies(df, columns=['workclass', 'education', 'marital-status', 'occupation', 'relationship', 'race', 'sex'])\n",
    "tdf = pd.get_dummies(tdf, columns=['workclass', 'education', 'marital-status', 'occupation', 'relationship', 'race', 'sex'])\n",
    "\n"
   ]
  },
  {
   "cell_type": "code",
   "execution_count": 713,
   "metadata": {},
   "outputs": [],
   "source": [
    "df['income_bi'] = df.apply(lambda row: 1 if '>50K'in row['income'] else 0, axis=1)# Remove redundant columns\n",
    "df = df.drop(['income','fnlwgt','capital-gain','capital-loss','native-country'], axis=1)\n",
    "tdf['income_bi'] = tdf.apply(lambda row: 1 if '>50K'in row['income'] else 0, axis=1)# Remove redundant columns\n",
    "tdf = tdf.drop(['income','fnlwgt','capital-gain','capital-loss','native-country'], axis=1)\n",
    "\n",
    "train_x = df.drop(['income_bi'], axis=1).to_numpy()\n",
    "train_y = df['income_bi'].to_numpy()\n",
    "test_x = tdf.drop(['income_bi'], axis=1).to_numpy()\n",
    "test_y = tdf['income_bi'].to_numpy()"
   ]
  },
  {
   "cell_type": "code",
   "execution_count": 714,
   "metadata": {},
   "outputs": [],
   "source": [
    "# data = np.array(df)\n",
    "# X = data[:, :-1]\n",
    "# y = data[:, -1]\n"
   ]
  },
  {
   "cell_type": "code",
   "execution_count": 715,
   "metadata": {},
   "outputs": [],
   "source": [
    "# design a decision tree\n",
    "class TreeNode:\n",
    "    def __init__(self, feature=None, threshold=None, left=None, right=None, value=None):\n",
    "        self.feature = feature        \n",
    "        self.threshold = threshold    \n",
    "        self.left = left              \n",
    "        self.right = right            \n",
    "        self.value = value           "
   ]
  },
  {
   "cell_type": "code",
   "execution_count": 716,
   "metadata": {},
   "outputs": [],
   "source": [
    "# gini index\n",
    "def cost_gini(y):\n",
    "    unique_classes = np.unique(y)\n",
    "    total_samples = len(y)\n",
    "    gini = 1.0\n",
    "\n",
    "    for cls in unique_classes:\n",
    "        p = np.sum(y == cls) / total_samples\n",
    "        gini -= p ** 2\n",
    "\n",
    "    return gini\n",
    "#cross entropy\n",
    "def cost_entropy(labels):\n",
    "    class_probs = np.bincount(labels) / len(labels)\n",
    "    class_probs = class_probs[class_probs > 0]            \n",
    "    return -np.sum(class_probs * np.log2(class_probs))  \n"
   ]
  },
  {
   "cell_type": "code",
   "execution_count": 717,
   "metadata": {},
   "outputs": [],
   "source": [
    "# 选择最佳分裂特征和阈值\n",
    "#X 是一个包含特征数据的矩阵，其中每一行代表一个数据样本，每一列代表一个特征。\n",
    "#y 是一个包含目标变量（类别标签）的向量，与特征矩阵 X 中的样本一一对应。\n",
    "def find_best_split(X, y, cost_func):\n",
    "    num_samples, num_features = X.shape\n",
    "    best_cost = 1.0\n",
    "    best_feature = None\n",
    "    best_threshold = None\n",
    "\n",
    "    for feature_idx in range(num_features):\n",
    "        thresholds = np.unique(X[:, feature_idx])\n",
    "        for threshold in thresholds:\n",
    "            left_mask = X[:, feature_idx] < threshold\n",
    "            right_mask = X[:, feature_idx] >= threshold\n",
    "\n",
    "            left_cost = cost_func(y[left_mask])\n",
    "            right_cost = cost_func(y[right_mask])\n",
    "        \n",
    "            weighted_cost = (left_cost * np.sum(left_mask) + right_cost * np.sum(right_mask)) / num_samples\n",
    "            \n",
    "            if weighted_cost < best_cost:\n",
    "                best_cost = weighted_cost\n",
    "                \n",
    "                best_feature = feature_idx\n",
    "                best_threshold = threshold\n",
    "    return best_feature, best_threshold\n"
   ]
  },
  {
   "cell_type": "code",
   "execution_count": 718,
   "metadata": {},
   "outputs": [],
   "source": [
    "def build_tree(X, y, cost_func, depth=0, max_depth=None):\n",
    "    num_samples, num_features = X.shape   \n",
    "    unique_classes, counts = np.unique(y, return_counts=True)\n",
    "    majority_class_idx = np.argmax(counts)\n",
    "\n",
    "    # 终止条件：节点只包含一个类别或达到最大深度\n",
    "    if len(unique_classes) == 1 or (max_depth is not None and depth == max_depth):\n",
    "        return TreeNode(value=unique_classes[majority_class_idx])\n",
    "    \n",
    "    # 寻找最佳分裂特征和阈值\n",
    "    best_feature, best_threshold = find_best_split(X, y, cost_func)\n",
    "\n",
    "    # 如果无法继续分裂，返回多数类别\n",
    "    if best_feature is None:\n",
    "        return TreeNode(value=unique_classes[majority_class_idx])\n",
    "\n",
    "    # 根据最佳分裂特征和阈值分裂数据\n",
    "    left_mask = X[:, best_feature] < best_threshold\n",
    "    right_mask = X[:, best_feature] >= best_threshold\n",
    "\n",
    "    left_tree = build_tree(X[left_mask], y[left_mask], cost_func, depth + 1, max_depth)\n",
    "    right_tree = build_tree(X[right_mask], y[right_mask], cost_func, depth + 1, max_depth)\n",
    "\n",
    "    return TreeNode(feature=best_feature, threshold=best_threshold, left=left_tree, right=right_tree)"
   ]
  },
  {
   "cell_type": "code",
   "execution_count": 719,
   "metadata": {},
   "outputs": [],
   "source": [
    "# 预测单个样本\n",
    "def predict_tree(node, x):\n",
    "    if node.value is not None:\n",
    "        return node.value\n",
    "    if x[node.feature] < node.threshold:\n",
    "        return predict_tree(node.left, x)\n",
    "    else:\n",
    "        return predict_tree(node.right, x)"
   ]
  },
  {
   "cell_type": "code",
   "execution_count": 720,
   "metadata": {},
   "outputs": [],
   "source": [
    "tree = build_tree(train_x, train_y, cost_entropy, max_depth=5, )"
   ]
  },
  {
   "cell_type": "code",
   "execution_count": 721,
   "metadata": {},
   "outputs": [],
   "source": [
    "y_pred = [predict_tree(tree, x) for x in train_x]"
   ]
  },
  {
   "cell_type": "code",
   "execution_count": 722,
   "metadata": {},
   "outputs": [],
   "source": [
    "# train_y=train_y.tolist()"
   ]
  },
  {
   "cell_type": "code",
   "execution_count": 723,
   "metadata": {},
   "outputs": [
    {
     "name": "stdout",
     "output_type": "stream",
     "text": [
      "Accuracy: 0.8234083719787476\n",
      "Classification Report:\n",
      "               precision    recall  f1-score   support\n",
      "\n",
      "           0       0.84      0.95      0.89     24720\n",
      "           1       0.74      0.41      0.53      7841\n",
      "\n",
      "    accuracy                           0.82     32561\n",
      "   macro avg       0.79      0.68      0.71     32561\n",
      "weighted avg       0.81      0.82      0.80     32561\n",
      "\n"
     ]
    }
   ],
   "source": [
    "#run model on training set\n",
    "accuracy = accuracy_score(train_y, y_pred)\n",
    "classification_rep = classification_report(train_y, y_pred)\n",
    "\n",
    "print(\"Accuracy:\", accuracy)\n",
    "print(\"Classification Report:\\n\", classification_rep)"
   ]
  },
  {
   "cell_type": "code",
   "execution_count": 724,
   "metadata": {},
   "outputs": [
    {
     "name": "stdout",
     "output_type": "stream",
     "text": [
      "Accuracy: 0.8250721700141269\n",
      "Classification Report:\n",
      "               precision    recall  f1-score   support\n",
      "\n",
      "           0       0.84      0.95      0.89     12435\n",
      "           1       0.73      0.41      0.53      3846\n",
      "\n",
      "    accuracy                           0.83     16281\n",
      "   macro avg       0.78      0.68      0.71     16281\n",
      "weighted avg       0.81      0.83      0.81     16281\n",
      "\n"
     ]
    }
   ],
   "source": [
    "#run model on testing set\n",
    "y_pred = [predict_tree(tree, x) for x in test_x]\n",
    "accuracy = accuracy_score(test_y, y_pred)\n",
    "classification_rep = classification_report(test_y, y_pred)\n",
    "\n",
    "print(\"Accuracy:\", accuracy)\n",
    "print(\"Classification Report:\\n\", classification_rep)"
   ]
  },
  {
   "cell_type": "code",
   "execution_count": 725,
   "metadata": {},
   "outputs": [
    {
     "name": "stderr",
     "output_type": "stream",
     "text": [
      "/Users/chloezhang/opt/anaconda3/lib/python3.9/site-packages/sklearn/metrics/_classification.py:1318: UndefinedMetricWarning: Precision and F-score are ill-defined and being set to 0.0 in labels with no predicted samples. Use `zero_division` parameter to control this behavior.\n",
      "  _warn_prf(average, modifier, msg_start, len(result))\n",
      "/Users/chloezhang/opt/anaconda3/lib/python3.9/site-packages/sklearn/metrics/_classification.py:1318: UndefinedMetricWarning: Precision and F-score are ill-defined and being set to 0.0 in labels with no predicted samples. Use `zero_division` parameter to control this behavior.\n",
      "  _warn_prf(average, modifier, msg_start, len(result))\n",
      "/Users/chloezhang/opt/anaconda3/lib/python3.9/site-packages/sklearn/metrics/_classification.py:1318: UndefinedMetricWarning: Precision and F-score are ill-defined and being set to 0.0 in labels with no predicted samples. Use `zero_division` parameter to control this behavior.\n",
      "  _warn_prf(average, modifier, msg_start, len(result))\n",
      "/Users/chloezhang/opt/anaconda3/lib/python3.9/site-packages/sklearn/metrics/_classification.py:1318: UndefinedMetricWarning: Precision and F-score are ill-defined and being set to 0.0 in labels with no predicted samples. Use `zero_division` parameter to control this behavior.\n",
      "  _warn_prf(average, modifier, msg_start, len(result))\n",
      "/Users/chloezhang/opt/anaconda3/lib/python3.9/site-packages/sklearn/metrics/_classification.py:1318: UndefinedMetricWarning: Precision and F-score are ill-defined and being set to 0.0 in labels with no predicted samples. Use `zero_division` parameter to control this behavior.\n",
      "  _warn_prf(average, modifier, msg_start, len(result))\n",
      "/Users/chloezhang/opt/anaconda3/lib/python3.9/site-packages/sklearn/metrics/_classification.py:1318: UndefinedMetricWarning: Precision and F-score are ill-defined and being set to 0.0 in labels with no predicted samples. Use `zero_division` parameter to control this behavior.\n",
      "  _warn_prf(average, modifier, msg_start, len(result))\n"
     ]
    },
    {
     "data": {
      "text/plain": [
       "{1: 0.7637737239727289,\n",
       " 2: 0.8219396842945765,\n",
       " 3: 0.8232909526441865,\n",
       " 4: 0.8253178551686015,\n",
       " 5: 0.8250721700141269,\n",
       " 6: 0.8310300350101345,\n",
       " 7: 0.8350838400589644,\n",
       " 8: 0.8349609974817271,\n",
       " 9: 0.8350224187703458}"
      ]
     },
     "execution_count": 725,
     "metadata": {},
     "output_type": "execute_result"
    }
   ],
   "source": [
    "train_acc = []\n",
    "test_acc = []\n",
    "model_choices=[]\n",
    "\n",
    "#find the best depth\n",
    "for depth in range(1,10):\n",
    "    tree = build_tree(train_x, train_y, cost_entropy, max_depth=depth)\n",
    "    y_pred = [predict_tree(tree, x) for x in train_x]\n",
    "    train_accuracy = accuracy_score(train_y, y_pred)\n",
    "    classification_rep = classification_report(train_y, y_pred)\n",
    "\n",
    "    y_pred = [predict_tree(tree, x) for x in test_x]\n",
    "    test_accuracy = accuracy_score(test_y, y_pred)\n",
    "    classification_rep = classification_report(test_y, y_pred)\n",
    "\n",
    "    model_choices.append(depth)\n",
    "    test_acc.append(test_accuracy)\n",
    "    train_acc.append(train_accuracy)\n",
    "        \n",
    "\n",
    "acc = {model_choices[i]: test_acc[i] for i in range(len(test_acc))}\n",
    "acc"
   ]
  },
  {
   "cell_type": "code",
   "execution_count": 726,
   "metadata": {},
   "outputs": [
    {
     "data": {
      "text/plain": [
       "7"
      ]
     },
     "execution_count": 726,
     "metadata": {},
     "output_type": "execute_result"
    }
   ],
   "source": [
    "best_depth = max(acc, key= lambda x: acc[x])\n",
    "best_depth"
   ]
  },
  {
   "cell_type": "code",
   "execution_count": 727,
   "metadata": {},
   "outputs": [
    {
     "name": "stdout",
     "output_type": "stream",
     "text": [
      "best_similarity_function <function cost_entropy at 0x7fd0cc016820>\n"
     ]
    },
    {
     "data": {
      "text/plain": [
       "{<function __main__.cost_entropy(labels)>: 0.8350838400589644,\n",
       " <function __main__.cost_gini(y)>: 0.8347153123272526}"
      ]
     },
     "execution_count": 727,
     "metadata": {},
     "output_type": "execute_result"
    }
   ],
   "source": [
    "best_func = {}\n",
    "similarity_func = [cost_entropy, cost_gini]\n",
    "for s in similarity_func:\n",
    "    tree = build_tree(train_x, train_y, s, max_depth=best_depth)\n",
    "    y_pred = [predict_tree(tree, x) for x in train_x]\n",
    "    train_accuracy = accuracy_score(train_y, y_pred)\n",
    "    classification_rep = classification_report(train_y, y_pred)\n",
    "\n",
    "\n",
    "    y_pred = [predict_tree(tree, x) for x in test_x]\n",
    "    test_accuracy = accuracy_score(test_y, y_pred)\n",
    "    classification_rep = classification_report(test_y, y_pred)\n",
    "    best_func[s] = test_accuracy\n",
    "\n",
    "best_similarity = max(best_func, key= lambda x: best_func[x])  \n",
    "print(\"best_similarity_function\",best_similarity)\n",
    "best_func"
   ]
  },
  {
   "cell_type": "code",
   "execution_count": null,
   "metadata": {},
   "outputs": [],
   "source": []
  }
 ],
 "metadata": {
  "kernelspec": {
   "display_name": "Python 3 (ipykernel)",
   "language": "python",
   "name": "python3"
  },
  "language_info": {
   "codemirror_mode": {
    "name": "ipython",
    "version": 3
   },
   "file_extension": ".py",
   "mimetype": "text/x-python",
   "name": "python",
   "nbconvert_exporter": "python",
   "pygments_lexer": "ipython3",
   "version": "3.9.13"
  }
 },
 "nbformat": 4,
 "nbformat_minor": 2
}
